{
  "nbformat": 4,
  "nbformat_minor": 0,
  "metadata": {
    "colab": {
      "name": "treina_modelo.ipynb",
      "version": "0.3.2",
      "provenance": [],
      "collapsed_sections": []
    },
    "language_info": {
      "codemirror_mode": {
        "name": "ipython",
        "version": 3
      },
      "file_extension": ".py",
      "mimetype": "text/x-python",
      "name": "python",
      "nbconvert_exporter": "python",
      "pygments_lexer": "ipython3",
      "version": "3.6.7"
    },
    "kernelspec": {
      "name": "python3",
      "display_name": "Python 3"
    },
    "accelerator": "GPU"
  },
  "cells": [
    {
      "cell_type": "markdown",
      "metadata": {
        "id": "Uby9i2jE83c6",
        "colab_type": "text"
      },
      "source": [
        "## O código abaixo, até a linha anterior ao título, é apenas para facilitar o carregamento de dados no google colab e será removido futuramente"
      ]
    },
    {
      "cell_type": "code",
      "metadata": {
        "id": "S7Mg8VwtHPCB",
        "colab_type": "code",
        "colab": {}
      },
      "source": [
        "# Run this cell to mount your Google Drive.\n",
        "from google.colab import drive\n",
        "drive.mount('/content/drive')"
      ],
      "execution_count": 0,
      "outputs": []
    },
    {
      "cell_type": "code",
      "metadata": {
        "id": "bcP3RAx7HQAG",
        "colab_type": "code",
        "colab": {}
      },
      "source": [
        "cp \"drive/My Drive/Colab Notebooks/PLN/text_sumarizer/data/news-of-the-site-folhauol.zip\" \"news-of-the-site-folhauol.zip\""
      ],
      "execution_count": 0,
      "outputs": []
    },
    {
      "cell_type": "code",
      "metadata": {
        "id": "k9cURTWF3kMA",
        "colab_type": "code",
        "colab": {}
      },
      "source": [
        "cp \"drive/My Drive/Colab Notebooks/PLN/text_sumarizer/models/glove_s100.zip\" \"glove_s100.zip\""
      ],
      "execution_count": 0,
      "outputs": []
    },
    {
      "cell_type": "code",
      "metadata": {
        "id": "wOVEAMLL3kXV",
        "colab_type": "code",
        "colab": {}
      },
      "source": [
        "cp -r \"drive/My Drive/Colab Notebooks/PLN/nlputils\" \"nlputils\"\n"
      ],
      "execution_count": 0,
      "outputs": []
    },
    {
      "cell_type": "code",
      "metadata": {
        "id": "x3IQ-gzi3kwy",
        "colab_type": "code",
        "colab": {}
      },
      "source": [
        "cp \"drive/My Drive/Colab Notebooks/PLN/text_sumarizer/requirements.txt\" \"requirements.txt\""
      ],
      "execution_count": 0,
      "outputs": []
    },
    {
      "cell_type": "code",
      "metadata": {
        "id": "umFexWhlLA9X",
        "colab_type": "code",
        "colab": {}
      },
      "source": [
        "from zipfile import ZipFile\n",
        "with ZipFile(\"news-of-the-site-folhauol.zip\", 'r') as zip_obj:\n",
        "    zip_obj.extractall()\n",
        "with ZipFile(\"glove_s100.zip\", 'r') as zip_obj:\n",
        "    zip_obj.extractall()"
      ],
      "execution_count": 0,
      "outputs": []
    },
    {
      "cell_type": "code",
      "metadata": {
        "id": "bxPibpsJJ9NT",
        "colab_type": "code",
        "colab": {}
      },
      "source": [
        "mv articles.csv dataset_artigos_de_noticias.csv"
      ],
      "execution_count": 0,
      "outputs": []
    },
    {
      "cell_type": "code",
      "metadata": {
        "id": "EoNSZIGBLi1U",
        "colab_type": "code",
        "colab": {}
      },
      "source": [
        "!pip3 install unidecode"
      ],
      "execution_count": 0,
      "outputs": []
    },
    {
      "cell_type": "code",
      "metadata": {
        "id": "d-m8DGlPL0eB",
        "colab_type": "code",
        "colab": {}
      },
      "source": [
        "import nltk\n",
        "nltk.download('punkt')\n",
        "nltk.download('rslp')\n",
        "nltk.download('stopwords')"
      ],
      "execution_count": 0,
      "outputs": []
    },
    {
      "cell_type": "markdown",
      "metadata": {
        "id": "_G7TjLZ5KdY3",
        "colab_type": "text"
      },
      "source": [
        "# Este notebook implementa o treinamento do modelo sumarizador utilzando um corpus de treinamento e word embeddings pré-treinados"
      ]
    },
    {
      "cell_type": "markdown",
      "metadata": {
        "id": "PGXLYu3YKdY5",
        "colab_type": "text"
      },
      "source": [
        "## Carregando o dataset"
      ]
    },
    {
      "cell_type": "code",
      "metadata": {
        "id": "0EV2Te8dKdY7",
        "colab_type": "code",
        "colab": {}
      },
      "source": [
        "import pandas as pd"
      ],
      "execution_count": 0,
      "outputs": []
    },
    {
      "cell_type": "code",
      "metadata": {
        "id": "ocIo0nuDKdY-",
        "colab_type": "code",
        "colab": {}
      },
      "source": [
        "caminho_dataset = \"dataset_artigos_de_noticias.csv\"\n",
        "dataset_noticias = pd.read_csv(caminho_dataset)"
      ],
      "execution_count": 0,
      "outputs": []
    },
    {
      "cell_type": "code",
      "metadata": {
        "id": "mRSc5UAXKdZB",
        "colab_type": "code",
        "outputId": "43d8913c-ee58-447c-f7ab-f688fe7d21aa",
        "colab": {
          "base_uri": "https://localhost:8080/",
          "height": 289
        }
      },
      "source": [
        "# Exibe as 5 primeiras linhas do dataset carregado\n",
        "dataset_noticias.head()"
      ],
      "execution_count": 15,
      "outputs": [
        {
          "output_type": "execute_result",
          "data": {
            "text/html": [
              "<div>\n",
              "<style scoped>\n",
              "    .dataframe tbody tr th:only-of-type {\n",
              "        vertical-align: middle;\n",
              "    }\n",
              "\n",
              "    .dataframe tbody tr th {\n",
              "        vertical-align: top;\n",
              "    }\n",
              "\n",
              "    .dataframe thead th {\n",
              "        text-align: right;\n",
              "    }\n",
              "</style>\n",
              "<table border=\"1\" class=\"dataframe\">\n",
              "  <thead>\n",
              "    <tr style=\"text-align: right;\">\n",
              "      <th></th>\n",
              "      <th>title</th>\n",
              "      <th>text</th>\n",
              "      <th>date</th>\n",
              "      <th>category</th>\n",
              "      <th>subcategory</th>\n",
              "      <th>link</th>\n",
              "    </tr>\n",
              "  </thead>\n",
              "  <tbody>\n",
              "    <tr>\n",
              "      <th>0</th>\n",
              "      <td>Lula diz que está 'lascado', mas que ainda tem...</td>\n",
              "      <td>Com a possibilidade de uma condenação impedir ...</td>\n",
              "      <td>2017-09-10</td>\n",
              "      <td>poder</td>\n",
              "      <td>NaN</td>\n",
              "      <td>http://www1.folha.uol.com.br/poder/2017/10/192...</td>\n",
              "    </tr>\n",
              "    <tr>\n",
              "      <th>1</th>\n",
              "      <td>'Decidi ser escrava das mulheres que sofrem', ...</td>\n",
              "      <td>Para Oumou Sangaré, cantora e ativista malines...</td>\n",
              "      <td>2017-09-10</td>\n",
              "      <td>ilustrada</td>\n",
              "      <td>NaN</td>\n",
              "      <td>http://www1.folha.uol.com.br/ilustrada/2017/10...</td>\n",
              "    </tr>\n",
              "    <tr>\n",
              "      <th>2</th>\n",
              "      <td>Três reportagens da Folha ganham Prêmio Petrob...</td>\n",
              "      <td>Três reportagens da Folha foram vencedoras do ...</td>\n",
              "      <td>2017-09-10</td>\n",
              "      <td>poder</td>\n",
              "      <td>NaN</td>\n",
              "      <td>http://www1.folha.uol.com.br/poder/2017/10/192...</td>\n",
              "    </tr>\n",
              "    <tr>\n",
              "      <th>3</th>\n",
              "      <td>Filme 'Star Wars: Os Últimos Jedi' ganha trail...</td>\n",
              "      <td>A Disney divulgou na noite desta segunda-feira...</td>\n",
              "      <td>2017-09-10</td>\n",
              "      <td>ilustrada</td>\n",
              "      <td>NaN</td>\n",
              "      <td>http://www1.folha.uol.com.br/ilustrada/2017/10...</td>\n",
              "    </tr>\n",
              "    <tr>\n",
              "      <th>4</th>\n",
              "      <td>CBSS inicia acordos com fintechs e quer 30% do...</td>\n",
              "      <td>O CBSS, banco da holding Elopar dos sócios Bra...</td>\n",
              "      <td>2017-09-10</td>\n",
              "      <td>mercado</td>\n",
              "      <td>NaN</td>\n",
              "      <td>http://www1.folha.uol.com.br/mercado/2017/10/1...</td>\n",
              "    </tr>\n",
              "  </tbody>\n",
              "</table>\n",
              "</div>"
            ],
            "text/plain": [
              "                                               title  ...                                               link\n",
              "0  Lula diz que está 'lascado', mas que ainda tem...  ...  http://www1.folha.uol.com.br/poder/2017/10/192...\n",
              "1  'Decidi ser escrava das mulheres que sofrem', ...  ...  http://www1.folha.uol.com.br/ilustrada/2017/10...\n",
              "2  Três reportagens da Folha ganham Prêmio Petrob...  ...  http://www1.folha.uol.com.br/poder/2017/10/192...\n",
              "3  Filme 'Star Wars: Os Últimos Jedi' ganha trail...  ...  http://www1.folha.uol.com.br/ilustrada/2017/10...\n",
              "4  CBSS inicia acordos com fintechs e quer 30% do...  ...  http://www1.folha.uol.com.br/mercado/2017/10/1...\n",
              "\n",
              "[5 rows x 6 columns]"
            ]
          },
          "metadata": {
            "tags": []
          },
          "execution_count": 15
        }
      ]
    },
    {
      "cell_type": "code",
      "metadata": {
        "id": "TPDQvka_KdZG",
        "colab_type": "code",
        "outputId": "2a6f2573-f51d-4610-e407-8955b90896d1",
        "colab": {
          "base_uri": "https://localhost:8080/",
          "height": 34
        }
      },
      "source": [
        "len(dataset_noticias)"
      ],
      "execution_count": 16,
      "outputs": [
        {
          "output_type": "execute_result",
          "data": {
            "text/plain": [
              "167053"
            ]
          },
          "metadata": {
            "tags": []
          },
          "execution_count": 16
        }
      ]
    },
    {
      "cell_type": "code",
      "metadata": {
        "id": "2nUcfAt-KdZK",
        "colab_type": "code",
        "outputId": "303d0b01-bcb8-4728-ca48-bf54542c622c",
        "colab": {
          "base_uri": "https://localhost:8080/",
          "height": 139
        }
      },
      "source": [
        "print(\"Título 3:\\n\", dataset_noticias['title'][3], '\\n')\n",
        "print(\"Texto 3:\\n\", dataset_noticias['text'][3], '\\n')"
      ],
      "execution_count": 17,
      "outputs": [
        {
          "output_type": "stream",
          "text": [
            "Título 3:\n",
            " Filme 'Star Wars: Os Últimos Jedi' ganha trailer definitivo; assista \n",
            "\n",
            "Texto 3:\n",
            " A Disney divulgou na noite desta segunda-feira (9) o novo trailer de \"Star Wars: Os Últimos Jedi\", oitavo episódio da saga.  O trailer era aguardado pelos fãs e se tornou um dos tópicos mais comentados no Twitter no horário de seu lançamento.  Assista ao trailer de 'Os Últimos Jedi'  Assista ao trailer de 'Os Últimos Jedi'  Em \"O Despertar da Força\" (2015), episódio mais recente, a personagem Rey (Daisy Ridley) descobre que tem a Força e procura por Luke Skywalker (Mark Hamill) para começar seu treinamento Jedi.  A história do novo episódio continua desse ponto, e cenas do trailer mostram a relação entre Rey e Skywalker.  Com direção de Rian Johnson, o filme será lançado em 14 de dezembro no Brasil. O nono episódio, ainda sem título, encerra a nova trilogia em 20 de dezembro de 2019.  O estúdio também divulgou novo poster do filme.  Poster \n",
            "\n"
          ],
          "name": "stdout"
        }
      ]
    },
    {
      "cell_type": "markdown",
      "metadata": {
        "id": "_Alg-MaiKdZS",
        "colab_type": "text"
      },
      "source": [
        "## Tokenizando por palavras"
      ]
    },
    {
      "cell_type": "markdown",
      "metadata": {
        "id": "TgmvxPjhKdZT",
        "colab_type": "text"
      },
      "source": [
        "Obtendo um dicionário com todas as palavras distintas e suas respectivas frequências de ocorrência no dataset"
      ]
    },
    {
      "cell_type": "code",
      "metadata": {
        "id": "XtXU8KXCKdZU",
        "colab_type": "code",
        "colab": {}
      },
      "source": [
        "from nlputils.lexical import normalization as norm\n",
        "normalizer = norm.Normalizer()"
      ],
      "execution_count": 0,
      "outputs": []
    },
    {
      "cell_type": "code",
      "metadata": {
        "id": "SNZXVatQKdZX",
        "colab_type": "code",
        "colab": {}
      },
      "source": [
        "LIMITE = 10000 #len(dataset_noticias)\n",
        "tokens_freqs = {} # As chaves serão as palavras e os valores serão as frequências de ocorrência\n",
        "for i in range(LIMITE):\n",
        "    conteudo = f\"{dataset_noticias['title'][i]}\\n{dataset_noticias['text'][i]}\"\n",
        "    tokens = normalizer.tokenize_words(conteudo)\n",
        "    for token in tokens:\n",
        "        if token in tokens_freqs:\n",
        "            tokens_freqs[token] += 1\n",
        "        else:\n",
        "            tokens_freqs[token] = 1"
      ],
      "execution_count": 0,
      "outputs": []
    },
    {
      "cell_type": "code",
      "metadata": {
        "id": "xnA8kUAPKdZa",
        "colab_type": "code",
        "outputId": "775f2ba8-60e1-4fe8-dc37-fefca1d33eb9",
        "colab": {
          "base_uri": "https://localhost:8080/",
          "height": 34
        }
      },
      "source": [
        "len(tokens_freqs)"
      ],
      "execution_count": 21,
      "outputs": [
        {
          "output_type": "execute_result",
          "data": {
            "text/plain": [
              "152021"
            ]
          },
          "metadata": {
            "tags": []
          },
          "execution_count": 21
        }
      ]
    },
    {
      "cell_type": "markdown",
      "metadata": {
        "id": "T9uUx_kNKdZe",
        "colab_type": "text"
      },
      "source": [
        "Ordenando os tokens por frequência de ocorrência"
      ]
    },
    {
      "cell_type": "code",
      "metadata": {
        "id": "JsrpVpVJKdZf",
        "colab_type": "code",
        "colab": {}
      },
      "source": [
        "from collections import OrderedDict\n",
        "from operator import itemgetter    \n",
        "\n",
        "tokens_freqs = OrderedDict(sorted(tokens_freqs.items(), key = itemgetter(1), reverse = True))"
      ],
      "execution_count": 0,
      "outputs": []
    },
    {
      "cell_type": "code",
      "metadata": {
        "scrolled": true,
        "id": "vK71HPc6KdZi",
        "colab_type": "code",
        "outputId": "4d0ae233-7981-489e-a2d1-7307a1bd0a1e",
        "colab": {
          "base_uri": "https://localhost:8080/",
          "height": 54
        }
      },
      "source": [
        "print([(t, tokens_freqs[t]) for t in list(tokens_freqs)[:10]])"
      ],
      "execution_count": 23,
      "outputs": [
        {
          "output_type": "stream",
          "text": [
            "[(',', 376121), ('de', 247513), ('.', 245652), ('a', 154082), ('que', 132219), ('o', 130963), ('e', 119377), ('do', 92425), ('da', 81786), ('em', 72624)]\n"
          ],
          "name": "stdout"
        }
      ]
    },
    {
      "cell_type": "markdown",
      "metadata": {
        "id": "5-KZ1gHSKdZm",
        "colab_type": "text"
      },
      "source": [
        "## Convertendo os tokens para representações vetoriais"
      ]
    },
    {
      "cell_type": "markdown",
      "metadata": {
        "id": "reOtKNXnKdZn",
        "colab_type": "text"
      },
      "source": [
        "Carregando os vetores de palavras pré-treinados(será usado o GloVe)"
      ]
    },
    {
      "cell_type": "code",
      "metadata": {
        "id": "mQeV_BjbKdZn",
        "colab_type": "code",
        "colab": {}
      },
      "source": [
        "from gensim.models import KeyedVectors\n",
        "glove_path = \"glove_s100.txt\"\n",
        "vects_glove = KeyedVectors.load_word2vec_format(glove_path)"
      ],
      "execution_count": 0,
      "outputs": []
    },
    {
      "cell_type": "code",
      "metadata": {
        "id": "JwjPGEu-Ljsb",
        "colab_type": "code",
        "colab": {}
      },
      "source": [
        "# Dicionário para converter um token para vetor\n",
        "token2vetor = {}\n",
        "\n",
        "with open(\"glove_s100.txt\", encoding='utf-8') as glove_file:\n",
        "    for linha in glove_file: # Obs.: lixo será lido para a primeira linha\n",
        "        valor = linha.split(' ')\n",
        "        token = valor[0]\n",
        "        vetor = np.asarray(valor[1:], dtype='float32')\n",
        "        token2vetor[token] = vetor"
      ],
      "execution_count": 0,
      "outputs": []
    },
    {
      "cell_type": "code",
      "metadata": {
        "id": "wQ-s1knZNMyn",
        "colab_type": "code",
        "colab": {
          "base_uri": "https://localhost:8080/",
          "height": 34
        },
        "outputId": "4f67ddb4-bf31-428c-d76a-f329cd0b31f8"
      },
      "source": [
        "len(token2vetor)"
      ],
      "execution_count": 60,
      "outputs": [
        {
          "output_type": "execute_result",
          "data": {
            "text/plain": [
              "929606"
            ]
          },
          "metadata": {
            "tags": []
          },
          "execution_count": 60
        }
      ]
    },
    {
      "cell_type": "code",
      "metadata": {
        "id": "aAr6sP8rM-8b",
        "colab_type": "code",
        "colab": {
          "base_uri": "https://localhost:8080/",
          "height": 306
        },
        "outputId": "b923a6d7-a786-4a48-c6ec-84f42b66d9f7"
      },
      "source": [
        "token2vetor['de']"
      ],
      "execution_count": 61,
      "outputs": [
        {
          "output_type": "execute_result",
          "data": {
            "text/plain": [
              "array([-0.059871, -0.26613 , -1.288952, -2.352894,  0.414237,  0.621193,\n",
              "        1.073003, -0.548189, -0.643191,  0.966722,  0.869204, -0.212642,\n",
              "       -1.038974, -0.356746, -0.24672 ,  0.471099,  0.049724, -0.7552  ,\n",
              "        0.388665,  1.053411,  0.940066, -0.405713,  0.007156, -1.134779,\n",
              "       -0.433221, -0.819711, -0.012   ,  0.032739, -0.225575,  1.153522,\n",
              "        0.537173, -0.463806,  0.340472, -0.189793, -0.160288,  0.58365 ,\n",
              "       -0.102506,  0.068884, -0.926536,  0.952415,  1.375001,  0.169173,\n",
              "       -0.055722, -0.356511,  0.559938,  0.414697, -0.747112, -0.548186,\n",
              "        0.35731 ,  0.851211,  0.036744, -0.746908, -0.305474, -0.137128,\n",
              "       -1.137372, -0.514234, -0.272096, -0.622991, -0.762249, -0.625595,\n",
              "        0.084059,  0.09621 ,  0.301824, -0.5573  ,  0.537335,  0.512624,\n",
              "       -0.435838,  0.591526, -0.318885,  0.181027,  1.253085,  0.257935,\n",
              "        0.734342,  0.245906,  2.948706,  0.0695  ,  0.484509, -0.255296,\n",
              "        0.019143, -0.773821,  0.55352 , -1.709604, -0.021685, -0.254114,\n",
              "       -0.576114, -0.800558, -0.022144, -0.281899, -0.949025,  0.329332,\n",
              "       -0.388322,  1.054918, -0.412016,  0.565986,  0.697279, -0.073342,\n",
              "        0.275684,  0.049941,  2.603193,  0.559911], dtype=float32)"
            ]
          },
          "metadata": {
            "tags": []
          },
          "execution_count": 61
        }
      ]
    },
    {
      "cell_type": "code",
      "metadata": {
        "id": "3Bxx_1RsKdZ4",
        "colab_type": "code",
        "outputId": "5c53242b-22e1-4618-edb5-204a582702e9",
        "colab": {
          "base_uri": "https://localhost:8080/",
          "height": 34
        }
      },
      "source": [
        "[token for token in list(token2vetor)[:10]]"
      ],
      "execution_count": 62,
      "outputs": [
        {
          "output_type": "execute_result",
          "data": {
            "text/plain": [
              "['929605', ',', 'de', '.', 'a', 'o', 'e', 'que', 'do', 'da']"
            ]
          },
          "metadata": {
            "tags": []
          },
          "execution_count": 62
        }
      ]
    },
    {
      "cell_type": "code",
      "metadata": {
        "id": "p3hEt_ucPis1",
        "colab_type": "code",
        "colab": {
          "base_uri": "https://localhost:8080/",
          "height": 34
        },
        "outputId": "02d36af8-a807-4f5c-9246-1a4603f7595b"
      },
      "source": [
        "# Remove o lixo lido para a primeira linha\n",
        "#del token2vetor['929605']\n",
        "\n",
        "# Confirmando a exclusão\n",
        "[token for token in list(token2vetor)[:10]]"
      ],
      "execution_count": 63,
      "outputs": [
        {
          "output_type": "execute_result",
          "data": {
            "text/plain": [
              "[',', 'de', '.', 'a', 'o', 'e', 'que', 'do', 'da', 'em']"
            ]
          },
          "metadata": {
            "tags": []
          },
          "execution_count": 63
        }
      ]
    },
    {
      "cell_type": "markdown",
      "metadata": {
        "id": "2Qlu09v2KdZ_",
        "colab_type": "text"
      },
      "source": [
        "Calculando o número de tokens do dataset que não não estão presentes no vocabulário do modelo GloVe e que têm uma frequência de ocorrência significativa"
      ]
    },
    {
      "cell_type": "code",
      "metadata": {
        "id": "civTiCBr-BsT",
        "colab_type": "code",
        "colab": {
          "base_uri": "https://localhost:8080/",
          "height": 51
        },
        "outputId": "8779389f-d29b-4948-f18b-2bb485261f09"
      },
      "source": [
        "qtd_tokens_faltantes = 0\n",
        "freq_min = 20\n",
        "\n",
        "for token, freq in tokens_freqs.items():\n",
        "    if freq > freq_min:\n",
        "        if token.lower() not in vects_glove.vocab:\n",
        "            qtd_tokens_faltantes += 1\n",
        "\n",
        "percent_tok_falt = round(qtd_tokens_faltantes/len(tokens_freqs), 2)*100\n",
        "print(\"Tokens faltantes no modelo GloVe: \", qtd_tokens_faltantes)\n",
        "print(f\"Percentual de tokens faltantes: {percent_tok_falt}%\")"
      ],
      "execution_count": 38,
      "outputs": [
        {
          "output_type": "stream",
          "text": [
            "Tokens faltantes no modelo GloVe:  529\n",
            "Percentual de tokens faltantes: 0.35%\n"
          ],
          "name": "stdout"
        }
      ]
    },
    {
      "cell_type": "markdown",
      "metadata": {
        "id": "YuvNqyapBPZr",
        "colab_type": "text"
      },
      "source": [
        "Foi usada um frequência mínima(freq_min) de ocorrência, para que tokens que não estejam presentes no modelo GloVe possam ser adicionados à word_embedding_matrix, mas eles precisam ocorrer o bastante nos textos, de forma que o modelo consiga entender seus significados"
      ]
    },
    {
      "cell_type": "code",
      "metadata": {
        "id": "TsENWuPDCAQc",
        "colab_type": "code",
        "colab": {
          "base_uri": "https://localhost:8080/",
          "height": 68
        },
        "outputId": "ded6392c-c4e9-45fe-baf1-a92691d656ec"
      },
      "source": [
        "# Limita o vocabulário que será usado a tokens que têm uma \n",
        "# ocorrênica mínima >= freq_min ou fazem parte do vocabulário\n",
        "# do modelo do glove\n",
        "\n",
        "# Dicionário para converter tokens para inteiros\n",
        "token2int = {}\n",
        "\n",
        "# Dicionário para converter inteiros para tokens\n",
        "int2token = {}\n",
        "\n",
        "valor = 0\n",
        "for token, freq in tokens_freqs.items():\n",
        "    if freq >= freq_min or token.lower() in token2vetor:\n",
        "        token2int[token] = valor\n",
        "        int2token[valor] = token\n",
        "        valor += 1\n",
        "\n",
        "# Tokens especiais que serão adicionados ao dicionário\n",
        "tokens_espec = [\"<UNK>\",\"<PAD>\",\"<EOS>\",\"<GO>\"]\n",
        "\n",
        "# Adiciona os tokens especiais ao vocabulário\n",
        "for token in tokens_espec:\n",
        "    valor = len(token2int) # Os códigos especias serão os maiores códigos\n",
        "    token2int[token] = valor\n",
        "    int2token[valor] = token\n",
        "\n",
        "percent_uso_tok = round(len(token2int)/len(tokens_freqs), 4)*100    \n",
        "    \n",
        "print(\"Total de palavras distintas:\", len(tokens_freqs))\n",
        "print(\"Quantidade de palavras que serão usadas:\", len(token2int))\n",
        "print(f\"Percentual de uso de tokens: {percent_uso_tok}%\")"
      ],
      "execution_count": 44,
      "outputs": [
        {
          "output_type": "stream",
          "text": [
            "Total de palavras distintas: 152021\n",
            "Quantidade de palavras que serão usadas: 125931\n",
            "Percentual de uso de tokens: 82.84%\n"
          ],
          "name": "stdout"
        }
      ]
    },
    {
      "cell_type": "markdown",
      "metadata": {
        "id": "6RpBNLsDIzb0",
        "colab_type": "text"
      },
      "source": [
        "Construindo a matriz de tokens(embedding matrix)"
      ]
    },
    {
      "cell_type": "code",
      "metadata": {
        "id": "9K5GwGwTIxm0",
        "colab_type": "code",
        "colab": {
          "base_uri": "https://localhost:8080/",
          "height": 34
        },
        "outputId": "6e1025cb-5448-47cf-b281-05fd705e9e51"
      },
      "source": [
        "import numpy as np\n",
        "\n",
        "dim_vetor = 100 # Esse valor precisa conferir com o do modelo Glove\n",
        "qtd_tokens = len(token2int)\n",
        "\n",
        "# Cria a matrix com valores padrões como zero\n",
        "matriz_de_tokens = np.zeros((qtd_tokens, dim_vetor), dtype=np.float32)\n",
        "\n",
        "for token, valor in token2int.items():\n",
        "    if token in token2vetor:\n",
        "        matriz_de_tokens[i] = token2vetor[token]\n",
        "    else:\n",
        "        # Se o token não estiver no modelo GloVe, cria um vetor aleatório para ele\n",
        "        novo_vetor = np.array(np.random.uniform(-1.0, 1.0, dim_vetor))\n",
        "        token2vetor[token] = novo_vetor\n",
        "        matriz_de_tokens[valor] = novo_vetor\n",
        "        \n",
        "# Confere se o valor bate com len(token2int)\n",
        "print(len(matriz_de_tokens))"
      ],
      "execution_count": 67,
      "outputs": [
        {
          "output_type": "stream",
          "text": [
            "125931\n"
          ],
          "name": "stdout"
        }
      ]
    }
  ]
}